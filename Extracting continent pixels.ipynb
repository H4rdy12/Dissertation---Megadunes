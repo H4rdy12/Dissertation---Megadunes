{
 "cells": [
  {
   "cell_type": "code",
   "execution_count": null,
   "metadata": {},
   "outputs": [],
   "source": [
    "#1km res\n",
    "import rasterio\n",
    "raster = rasterio.open('./REMA_1km_dem.tif')\n",
    "band_arr = raster.read(1)\n",
    "px_vals = []\n",
    "\n",
    "for x in range(band_arr.shape[0]):\n",
    "    for y in range(band_arr.shape[1]):\n",
    "        if band_arr[x, y] != (-9999.0):\n",
    "            px_vals.append(band_arr[x, y])"
   ]
  },
  {
   "cell_type": "code",
   "execution_count": null,
   "metadata": {},
   "outputs": [],
   "source": [
    "import matplotlib.pyplot as plt\n",
    "\n",
    "n, bins, patches = plt.hist(x=px_vals, bins='auto', color='#0504aa',\n",
    "                            alpha=0.7, rwidth=0.85)\n",
    "\n",
    "plt.title('1km DEM', loc='left')\n",
    "plt.xlabel('Elevation')\n",
    "plt.ylabel('frequency')\n",
    "plt.show()"
   ]
  },
  {
   "cell_type": "code",
   "execution_count": null,
   "metadata": {},
   "outputs": [],
   "source": [
    "def continent_pixel_extraction(data, res):\n",
    "    \n",
    "    #Extract\n",
    "    \n",
    "    import rasterio\n",
    "    raster = rasterio.open(data)\n",
    "    band_arr = raster.read(1)\n",
    "    px_vals = []\n",
    "    \n",
    "    for x in range(band_arr.shape[0]):\n",
    "        for y in range(band_arr.shape[1]):\n",
    "            if band_arr[x, y] != (-9999.0):\n",
    "                px_vals.append(band_arr[x, y])\n",
    "    \n",
    "    # plot\n",
    "    import matplotlib.pyplot as plt\n",
    "    \n",
    "    if res == '1km':\n",
    "        n, bins, patches = plt.hist(x=px_vals, bins='auto', color='#0504aa',\n",
    "                            alpha=0.7, rwidth=0.85)\n",
    "        plt.title('1km DEM', loc='left')\n",
    "        plt.xlabel('Elevation')\n",
    "        plt.ylabel('frequency')\n",
    "        plt.show()\n",
    "        \n",
    "    return px_vals\n"
   ]
  },
  {
   "cell_type": "code",
   "execution_count": null,
   "metadata": {},
   "outputs": [],
   "source": [
    "# 1km \n",
    "data = './REMA_1km_dem.tif'\n",
    "\n",
    "continent_pixel_extraction(data, '1km')"
   ]
  }
 ],
 "metadata": {
  "kernelspec": {
   "display_name": "icepyx-env",
   "language": "python",
   "name": "icepyx-env"
  },
  "language_info": {
   "codemirror_mode": {
    "name": "ipython",
    "version": 3
   },
   "file_extension": ".py",
   "mimetype": "text/x-python",
   "name": "python",
   "nbconvert_exporter": "python",
   "pygments_lexer": "ipython3",
   "version": "3.9.7"
  }
 },
 "nbformat": 4,
 "nbformat_minor": 4
}
